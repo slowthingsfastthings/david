{
 "metadata": {
  "name": "",
  "signature": "sha256:dd8abde4ad2fbfdeb6f6632284b5f48e9d8e2f947c7d5e7b81b25f1cdfd28192"
 },
 "nbformat": 3,
 "nbformat_minor": 0,
 "worksheets": []
}