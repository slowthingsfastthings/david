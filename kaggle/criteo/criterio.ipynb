{
 "metadata": {
  "name": "",
  "signature": "sha256:ef5ddad08533b39bd793e6f3e558b6d445c6a5a2f909c3ecd66153d8ecd382d3"
 },
 "nbformat": 3,
 "nbformat_minor": 0,
 "worksheets": [
  {
   "cells": [
    {
     "cell_type": "markdown",
     "metadata": {},
     "source": [
      "This is my first attempting at doing my entire analysis workflow in a notebook."
     ]
    },
    {
     "cell_type": "code",
     "collapsed": false,
     "input": [
      "import numpy as np\n",
      "import pandas as pd\n",
      "import pylab as py\n",
      "from sklearn.ensemble import RandomForestClassifier, RandomForestRegressor\n",
      "from ml_modules import *"
     ],
     "language": "python",
     "metadata": {},
     "outputs": [],
     "prompt_number": 6
    },
    {
     "cell_type": "code",
     "collapsed": false,
     "input": [
      "final_test  = pd.read_csv('test.csv')"
     ],
     "language": "python",
     "metadata": {},
     "outputs": [],
     "prompt_number": 7
    },
    {
     "cell_type": "code",
     "collapsed": false,
     "input": [
      "train = pd.read_csv('/Users/David/downloads/train.csv')"
     ],
     "language": "python",
     "metadata": {},
     "outputs": []
    },
    {
     "cell_type": "code",
     "collapsed": false,
     "input": [
      "print final_test.info()"
     ],
     "language": "python",
     "metadata": {},
     "outputs": [
      {
       "output_type": "stream",
       "stream": "stdout",
       "text": [
        "<class 'pandas.core.frame.DataFrame'>\n",
        "Int64Index: 6042135 entries, 0 to 6042134\n",
        "Data columns (total 40 columns):\n",
        "Id     int64\n",
        "I1     float64\n",
        "I2     int64\n",
        "I3     float64\n",
        "I4     float64\n",
        "I5     float64\n",
        "I6     float64\n",
        "I7     float64\n",
        "I8     float64\n",
        "I9     float64\n",
        "I10    float64\n",
        "I11    float64\n",
        "I12    float64\n",
        "I13    float64\n",
        "C1     object\n",
        "C2     object\n",
        "C3     object\n",
        "C4     object\n",
        "C5     object\n",
        "C6     object\n",
        "C7     object\n",
        "C8     object\n",
        "C9     object\n",
        "C10    object\n",
        "C11    object\n",
        "C12    object\n",
        "C13    object\n",
        "C14    object\n",
        "C15    object\n",
        "C16    object\n",
        "C17    object\n",
        "C18    object\n",
        "C19    object\n",
        "C20    object\n",
        "C21    object\n",
        "C22    object\n",
        "C23    object\n",
        "C24    object\n",
        "C25    object\n",
        "C26    object\n",
        "dtypes: float64(12), int64(2), object(26)None\n"
       ]
      }
     ],
     "prompt_number": 11
    },
    {
     "cell_type": "code",
     "collapsed": false,
     "input": [
      "print train.info()"
     ],
     "language": "python",
     "metadata": {},
     "outputs": []
    },
    {
     "cell_type": "code",
     "collapsed": false,
     "input": [
      "print train.head(5)"
     ],
     "language": "python",
     "metadata": {},
     "outputs": []
    },
    {
     "cell_type": "code",
     "collapsed": false,
     "input": [],
     "language": "python",
     "metadata": {},
     "outputs": []
    }
   ],
   "metadata": {}
  }
 ]
}