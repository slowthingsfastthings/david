{
 "metadata": {
  "name": "",
  "signature": "sha256:c6861fa56a2877c46bf5741ed4bf18ad20247cb0002f1ed40202e93a83e06e1a"
 },
 "nbformat": 3,
 "nbformat_minor": 0,
 "worksheets": [
  {
   "cells": [
    {
     "cell_type": "code",
     "collapsed": true,
     "input": [
      "import csv as csv\n",
      "import numpy as np\n",
      "import pandas as pd\n",
      "import pylab as py\n",
      "from sklearn.ensemble import RandomForestClassifier, RandomForestRegressor\n",
      "from sklearn import cross_validation, metrics, linear_model, svm\n",
      "from ml_modules import *"
     ],
     "language": "python",
     "metadata": {},
     "outputs": []
    },
    {
     "cell_type": "code",
     "collapsed": true,
     "input": [
      "train       = pd.read_csv('train.csv')\n",
      "final_test  = pd.read_csv('test.csv')"
     ],
     "language": "python",
     "metadata": {},
     "outputs": []
    },
    {
     "cell_type": "code",
     "collapsed": true,
     "input": [
      "# Convert datetime column into hour, year, etc.\n",
      "datetime_split(train)\n",
      "datetime_split(final_test)"
     ],
     "language": "python",
     "metadata": {},
     "outputs": []
    },
    {
     "cell_type": "code",
     "collapsed": true,
     "input": [
      "# Store datetime before removal\n",
      "date_ids    = final_test['datetime']\n",
      "final_test  = final_test.drop(['datetime'], axis=1)\n",
      "train       = train.drop(['datetime'], axis=1)"
     ],
     "language": "python",
     "metadata": {},
     "outputs": []
    },
    {
     "cell_type": "code",
     "collapsed": true,
     "input": [
      "# move outcomes to the front\n",
      "train = set_column_sequence(train, ['count'])"
     ],
     "language": "python",
     "metadata": {},
     "outputs": []
    },
    {
     "cell_type": "code",
     "collapsed": true,
     "input": [
      "print train.info()"
     ],
     "language": "python",
     "metadata": {},
     "outputs": []
    },
    {
     "cell_type": "code",
     "collapsed": true,
     "input": [
      "print final_test.info()"
     ],
     "language": "python",
     "metadata": {},
     "outputs": []
    },
    {
     "cell_type": "code",
     "collapsed": true,
     "input": [
      "# convert to numpy array\n",
      "train_data       = train.values\n",
      "final_test_data  = final_test.values"
     ],
     "language": "python",
     "metadata": {},
     "outputs": []
    },
    {
     "cell_type": "code",
     "collapsed": false,
     "input": [
      "# For train data define features and outcomes\n",
      "train_data_x = train_data[:, 1:]\n",
      "train_data_y = train_data[:, 0]\n"
     ],
     "language": "python",
     "metadata": {},
     "outputs": []
    },
    {
     "cell_type": "code",
     "collapsed": false,
     "input": [
      "# Cross Validiation\n",
      "#cross_Validation(train_data)"
     ],
     "language": "python",
     "metadata": {},
     "outputs": []
    },
    {
     "cell_type": "code",
     "collapsed": false,
     "input": [
      "forest = RandomForestClassifier(n_estimators=100,\n",
      "                                max_features=None,\n",
      "                                min_samples_split=2,\n",
      "                                compute_importances=all)\n",
      "\n",
      "forest = forest.fit( train_data_x, train_data_y )"
     ],
     "language": "python",
     "metadata": {},
     "outputs": []
    },
    {
     "cell_type": "code",
     "collapsed": false,
     "input": [
      "output = forest.predict(final_test_data).astype(int)"
     ],
     "language": "python",
     "metadata": {},
     "outputs": []
    },
    {
     "cell_type": "code",
     "collapsed": false,
     "input": [
      "# Save into Kaggle submission format\n",
      "\n",
      "predictions_file = open(\"forrest_results_new.csv\", \"wb\")\n",
      "open_file_object = csv.writer(predictions_file)\n",
      "open_file_object.writerow([\"Id\",\"Cover_Type\"])\n",
      "open_file_object.writerows(zip(ids, output))\n",
      "predictions_file.close()"
     ],
     "language": "python",
     "metadata": {},
     "outputs": []
    },
    {
     "cell_type": "code",
     "collapsed": false,
     "input": [],
     "language": "python",
     "metadata": {},
     "outputs": []
    }
   ],
   "metadata": {}
  }
 ]
}